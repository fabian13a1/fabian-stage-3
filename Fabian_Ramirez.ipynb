{
 "cells": [
  {
   "cell_type": "code",
   "execution_count": 1,
   "id": "2d199e88",
   "metadata": {},
   "outputs": [],
   "source": [
    "answer_dict =  {\"Q1\" : 475.3163392572124,\n",
    "                \"Q2\" : [['Chevrolet', 3643], ['Ford', 2946], ['Dodge', 2360], ['GMC', 2347], ['Toyota', 183]],\n",
    "                \"Q3\" :  ['CNG', 'Diesel', 'Gasoline or E85', 'Gasoline or natural gas', 'Gasoline or propane', 'Midgrade', 'Premium', 'Premium Gas or Electricity', 'Premium and Electricity', 'Premium or E85', 'Regular', 'Regular Gas and Electricity', 'Regular Gas or Electricity'],\n",
    "                \"Q4\" : None,\n",
    "                \"Q5\" : None,\n",
    "                \"Q6\" : [['Toyota', 133.0, 133.0, 133.0, 133.0, 158], ['Ford', 112.0, 129.0, 129.0, 129.0, 129.0], ['Volkswagen', 200.000000, 200.000000, 200.000000, 200.00000, 261.025641], ['Nissan', 249.0, 254.0, 254.5, 254.5, 254.5],['Honda', 130.000000, 167.679245, 167.679245, 167.679245, 167.679245]],\n",
    "                \"Q7\" : None}"
   ]
  },
  {
   "cell_type": "code",
   "execution_count": 6,
   "id": "61516b2b",
   "metadata": {},
   "outputs": [],
   "source": [
    "import pandas as pd\n",
    "import numpy as np\n",
    "url='https://drive.google.com/file/d/1PCJ7ltluquoXKi6MYTPMfwZQNI_-MIFP/view?usp=sharing'\n",
    "url='https://drive.google.com/uc?id=' + url.split('/')[-2]\n",
    "df = pd.read_csv(url)"
   ]
  },
  {
   "cell_type": "code",
   "execution_count": 7,
   "id": "50e43ac2",
   "metadata": {
    "scrolled": true
   },
   "outputs": [
    {
     "data": {
      "text/html": [
       "<div>\n",
       "<style scoped>\n",
       "    .dataframe tbody tr th:only-of-type {\n",
       "        vertical-align: middle;\n",
       "    }\n",
       "\n",
       "    .dataframe tbody tr th {\n",
       "        vertical-align: top;\n",
       "    }\n",
       "\n",
       "    .dataframe thead th {\n",
       "        text-align: right;\n",
       "    }\n",
       "</style>\n",
       "<table border=\"1\" class=\"dataframe\">\n",
       "  <thead>\n",
       "    <tr style=\"text-align: right;\">\n",
       "      <th></th>\n",
       "      <th>Make</th>\n",
       "      <th>Model</th>\n",
       "      <th>Year</th>\n",
       "      <th>Engine Displacement</th>\n",
       "      <th>Cylinders</th>\n",
       "      <th>Transmission</th>\n",
       "      <th>Drivetrain</th>\n",
       "      <th>Vehicle Class</th>\n",
       "      <th>Fuel Type</th>\n",
       "      <th>Fuel Barrels/Year</th>\n",
       "      <th>City MPG</th>\n",
       "      <th>Highway MPG</th>\n",
       "      <th>Combined MPG</th>\n",
       "      <th>CO2 Emission Grams/Mile</th>\n",
       "      <th>Fuel Cost/Year</th>\n",
       "    </tr>\n",
       "  </thead>\n",
       "  <tbody>\n",
       "    <tr>\n",
       "      <th>0</th>\n",
       "      <td>AM General</td>\n",
       "      <td>DJ Po Vehicle 2WD</td>\n",
       "      <td>1984</td>\n",
       "      <td>2.5</td>\n",
       "      <td>4.0</td>\n",
       "      <td>Automatic 3-spd</td>\n",
       "      <td>2-Wheel Drive</td>\n",
       "      <td>Special Purpose Vehicle 2WD</td>\n",
       "      <td>Regular</td>\n",
       "      <td>19.388824</td>\n",
       "      <td>18</td>\n",
       "      <td>17</td>\n",
       "      <td>17</td>\n",
       "      <td>522.764706</td>\n",
       "      <td>1950</td>\n",
       "    </tr>\n",
       "    <tr>\n",
       "      <th>1</th>\n",
       "      <td>AM General</td>\n",
       "      <td>FJ8c Post Office</td>\n",
       "      <td>1984</td>\n",
       "      <td>4.2</td>\n",
       "      <td>6.0</td>\n",
       "      <td>Automatic 3-spd</td>\n",
       "      <td>2-Wheel Drive</td>\n",
       "      <td>Special Purpose Vehicle 2WD</td>\n",
       "      <td>Regular</td>\n",
       "      <td>25.354615</td>\n",
       "      <td>13</td>\n",
       "      <td>13</td>\n",
       "      <td>13</td>\n",
       "      <td>683.615385</td>\n",
       "      <td>2550</td>\n",
       "    </tr>\n",
       "    <tr>\n",
       "      <th>2</th>\n",
       "      <td>AM General</td>\n",
       "      <td>Post Office DJ5 2WD</td>\n",
       "      <td>1985</td>\n",
       "      <td>2.5</td>\n",
       "      <td>4.0</td>\n",
       "      <td>Automatic 3-spd</td>\n",
       "      <td>Rear-Wheel Drive</td>\n",
       "      <td>Special Purpose Vehicle 2WD</td>\n",
       "      <td>Regular</td>\n",
       "      <td>20.600625</td>\n",
       "      <td>16</td>\n",
       "      <td>17</td>\n",
       "      <td>16</td>\n",
       "      <td>555.437500</td>\n",
       "      <td>2100</td>\n",
       "    </tr>\n",
       "    <tr>\n",
       "      <th>3</th>\n",
       "      <td>AM General</td>\n",
       "      <td>Post Office DJ8 2WD</td>\n",
       "      <td>1985</td>\n",
       "      <td>4.2</td>\n",
       "      <td>6.0</td>\n",
       "      <td>Automatic 3-spd</td>\n",
       "      <td>Rear-Wheel Drive</td>\n",
       "      <td>Special Purpose Vehicle 2WD</td>\n",
       "      <td>Regular</td>\n",
       "      <td>25.354615</td>\n",
       "      <td>13</td>\n",
       "      <td>13</td>\n",
       "      <td>13</td>\n",
       "      <td>683.615385</td>\n",
       "      <td>2550</td>\n",
       "    </tr>\n",
       "    <tr>\n",
       "      <th>4</th>\n",
       "      <td>ASC Incorporated</td>\n",
       "      <td>GNX</td>\n",
       "      <td>1987</td>\n",
       "      <td>3.8</td>\n",
       "      <td>6.0</td>\n",
       "      <td>Automatic 4-spd</td>\n",
       "      <td>Rear-Wheel Drive</td>\n",
       "      <td>Midsize Cars</td>\n",
       "      <td>Premium</td>\n",
       "      <td>20.600625</td>\n",
       "      <td>14</td>\n",
       "      <td>21</td>\n",
       "      <td>16</td>\n",
       "      <td>555.437500</td>\n",
       "      <td>2550</td>\n",
       "    </tr>\n",
       "  </tbody>\n",
       "</table>\n",
       "</div>"
      ],
      "text/plain": [
       "               Make                Model  Year  Engine Displacement  \\\n",
       "0        AM General    DJ Po Vehicle 2WD  1984                  2.5   \n",
       "1        AM General     FJ8c Post Office  1984                  4.2   \n",
       "2        AM General  Post Office DJ5 2WD  1985                  2.5   \n",
       "3        AM General  Post Office DJ8 2WD  1985                  4.2   \n",
       "4  ASC Incorporated                  GNX  1987                  3.8   \n",
       "\n",
       "   Cylinders     Transmission        Drivetrain                Vehicle Class  \\\n",
       "0        4.0  Automatic 3-spd     2-Wheel Drive  Special Purpose Vehicle 2WD   \n",
       "1        6.0  Automatic 3-spd     2-Wheel Drive  Special Purpose Vehicle 2WD   \n",
       "2        4.0  Automatic 3-spd  Rear-Wheel Drive  Special Purpose Vehicle 2WD   \n",
       "3        6.0  Automatic 3-spd  Rear-Wheel Drive  Special Purpose Vehicle 2WD   \n",
       "4        6.0  Automatic 4-spd  Rear-Wheel Drive                 Midsize Cars   \n",
       "\n",
       "  Fuel Type  Fuel Barrels/Year  City MPG  Highway MPG  Combined MPG  \\\n",
       "0   Regular          19.388824        18           17            17   \n",
       "1   Regular          25.354615        13           13            13   \n",
       "2   Regular          20.600625        16           17            16   \n",
       "3   Regular          25.354615        13           13            13   \n",
       "4   Premium          20.600625        14           21            16   \n",
       "\n",
       "   CO2 Emission Grams/Mile  Fuel Cost/Year  \n",
       "0               522.764706            1950  \n",
       "1               683.615385            2550  \n",
       "2               555.437500            2100  \n",
       "3               683.615385            2550  \n",
       "4               555.437500            2550  "
      ]
     },
     "execution_count": 7,
     "metadata": {},
     "output_type": "execute_result"
    }
   ],
   "source": [
    "df.head()"
   ]
  },
  {
   "cell_type": "code",
   "execution_count": 8,
   "id": "89b13283",
   "metadata": {},
   "outputs": [
    {
     "name": "stdout",
     "output_type": "stream",
     "text": [
      "<class 'pandas.core.frame.DataFrame'>\n",
      "RangeIndex: 35952 entries, 0 to 35951\n",
      "Data columns (total 15 columns):\n",
      " #   Column                   Non-Null Count  Dtype  \n",
      "---  ------                   --------------  -----  \n",
      " 0   Make                     35952 non-null  object \n",
      " 1   Model                    35952 non-null  object \n",
      " 2   Year                     35952 non-null  int64  \n",
      " 3   Engine Displacement      35952 non-null  float64\n",
      " 4   Cylinders                35952 non-null  float64\n",
      " 5   Transmission             35952 non-null  object \n",
      " 6   Drivetrain               35952 non-null  object \n",
      " 7   Vehicle Class            35952 non-null  object \n",
      " 8   Fuel Type                35952 non-null  object \n",
      " 9   Fuel Barrels/Year        35952 non-null  float64\n",
      " 10  City MPG                 35952 non-null  int64  \n",
      " 11  Highway MPG              35952 non-null  int64  \n",
      " 12  Combined MPG             35952 non-null  int64  \n",
      " 13  CO2 Emission Grams/Mile  35952 non-null  float64\n",
      " 14  Fuel Cost/Year           35952 non-null  int64  \n",
      "dtypes: float64(4), int64(5), object(6)\n",
      "memory usage: 4.1+ MB\n"
     ]
    }
   ],
   "source": [
    "df.info()"
   ]
  },
  {
   "cell_type": "markdown",
   "id": "7509aa1f",
   "metadata": {},
   "source": [
    "# Question  1:"
   ]
  },
  {
   "cell_type": "code",
   "execution_count": 3,
   "id": "b066a9af",
   "metadata": {},
   "outputs": [
    {
     "data": {
      "text/plain": [
       "475.3163392572124"
      ]
     },
     "execution_count": 3,
     "metadata": {},
     "output_type": "execute_result"
    }
   ],
   "source": [
    "# We Select the column and calculate the average with a function (.mean()) of pandas\n",
    "df[\"CO2 Emission Grams/Mile\"].mean()\n",
    "#answer_dict[\"Q1\"] =  475.3163392572124"
   ]
  },
  {
   "cell_type": "markdown",
   "id": "198de7d0",
   "metadata": {},
   "source": [
    "# Question 2:"
   ]
  },
  {
   "cell_type": "code",
   "execution_count": 9,
   "id": "75a8fa2f",
   "metadata": {},
   "outputs": [
    {
     "name": "stdout",
     "output_type": "stream",
     "text": [
      "           Make\n",
      "Chevrolet  3643\n",
      "Ford       2946\n",
      "Dodge      2360\n",
      "GMC        2347\n",
      "Toyota     1836\n"
     ]
    }
   ],
   "source": [
    "res2 = df['Make'].value_counts().to_frame()\n",
    "print(res2[0:5])\n",
    "#answer_dict[\"Q2\"] = [['Chevrolet', 3643], ['Ford', 2946], ['Dodge', 2360], ['GMC', 2347], ['Toyota', 183]]"
   ]
  },
  {
   "cell_type": "markdown",
   "id": "c5cb192a",
   "metadata": {},
   "source": [
    "# Question 3:"
   ]
  },
  {
   "cell_type": "code",
   "execution_count": 5,
   "id": "185358dc",
   "metadata": {},
   "outputs": [
    {
     "data": {
      "text/plain": [
       "['CNG',\n",
       " 'Diesel',\n",
       " 'Gasoline or E85',\n",
       " 'Gasoline or natural gas',\n",
       " 'Gasoline or propane',\n",
       " 'Midgrade',\n",
       " 'Premium',\n",
       " 'Premium Gas or Electricity',\n",
       " 'Premium and Electricity',\n",
       " 'Premium or E85',\n",
       " 'Regular',\n",
       " 'Regular Gas and Electricity',\n",
       " 'Regular Gas or Electricity']"
      ]
     },
     "execution_count": 5,
     "metadata": {},
     "output_type": "execute_result"
    }
   ],
   "source": [
    "df['Fuel Type'].value_counts().sort_index().keys().tolist()\n",
    "#answer_dict[\"Q3\"] =  ['CNG', 'Diesel', 'Gasoline or E85', 'Gasoline or natural gas', 'Gasoline or propane', 'Midgrade', 'Premium',\n",
    "# 'Premium Gas or Electricity', 'Premium and Electricity', 'Premium or E85', 'Regular', 'Regular Gas and Electricity', 'Regular Gas or Electricity']"
   ]
  },
  {
   "cell_type": "markdown",
   "id": "2275a1fb",
   "metadata": {},
   "source": [
    "# Question 4:"
   ]
  },
  {
   "cell_type": "code",
   "execution_count": null,
   "id": "1bf3ccf9",
   "metadata": {},
   "outputs": [],
   "source": [
    "df.set_index('Make', inplace=True)"
   ]
  },
  {
   "cell_type": "code",
   "execution_count": 21,
   "id": "3671a357",
   "metadata": {},
   "outputs": [
    {
     "name": "stdout",
     "output_type": "stream",
     "text": [
      "                       Model  Year  Fuel Barrels/Year\n",
      "Make                                                 \n",
      "Toyota       Cab/Chassis 2WD  1992          32.961000\n",
      "Toyota       Cab/Chassis 2WD  1989          32.961000\n",
      "Toyota       Cab/Chassis 2WD  1993          32.961000\n",
      "Toyota       Cab/Chassis 2WD  1990          32.961000\n",
      "Toyota       Cab/Chassis 2WD  1991          32.961000\n",
      "...                      ...   ...                ...\n",
      "Toyota  Prius Plug-in Hybrid  2014           4.737144\n",
      "Toyota  Prius Plug-in Hybrid  2013           4.737144\n",
      "Toyota             Camry CNG  2001           0.084545\n",
      "Toyota             Camry CNG  2000           0.084545\n",
      "Toyota             Camry CNG  1999           0.080870\n",
      "\n",
      "[1836 rows x 3 columns]\n"
     ]
    }
   ],
   "source": [
    "search = df.loc[['Toyota'],['Model', 'Year', 'Fuel Barrels/Year']]\n",
    "print(search.sort_values(by=['Fuel Barrels/Year'],ascending=[False]))"
   ]
  },
  {
   "cell_type": "markdown",
   "id": "df51574b",
   "metadata": {},
   "source": [
    "# Question 5:"
   ]
  },
  {
   "cell_type": "code",
   "execution_count": null,
   "id": "f93659cb",
   "metadata": {},
   "outputs": [],
   "source": []
  },
  {
   "cell_type": "markdown",
   "id": "344e8f18",
   "metadata": {},
   "source": [
    "# Question 6:"
   ]
  },
  {
   "cell_type": "code",
   "execution_count": 19,
   "id": "61c6447b",
   "metadata": {},
   "outputs": [],
   "source": [
    "#answer_dict[\"Q3\"] =\n",
    "#[['Toyota', 133.0, 133.0, 133.0, 133.0, 158], ['Ford', 112.0, 129.0, 129.0, 129.0, 129.0],\n",
    "#['Volkswagen', 200.000000, 200.000000, 200.000000, 200.00000, 261.025641], ['Nissan', 249.0, 254.0, 254.5, 254.5, 254.5],\n",
    "#['Honda', 130.000000, 167.679245, 167.679245, 167.679245, 167.679245]]\n"
   ]
  },
  {
   "cell_type": "code",
   "execution_count": 13,
   "id": "d30e1d59",
   "metadata": {},
   "outputs": [
    {
     "name": "stdout",
     "output_type": "stream",
     "text": [
      "        CO2 Emission Grams/Mile\n",
      "Make                           \n",
      "Toyota                    133.0\n",
      "Toyota                    133.0\n",
      "Toyota                    133.0\n",
      "Toyota                    133.0\n",
      "Toyota                    158.0\n"
     ]
    }
   ],
   "source": [
    "#Toyota, Ford, Volkswagen, Nissan, Honda \n",
    "val1=df.loc[['Toyota'],['CO2 Emission Grams/Mile']]\n",
    "cToyota = val1.sort_values(by=['CO2 Emission Grams/Mile'],ascending=[True])\n",
    "print(cToyota[0:5])"
   ]
  },
  {
   "cell_type": "code",
   "execution_count": 14,
   "id": "20e0a595",
   "metadata": {},
   "outputs": [
    {
     "name": "stdout",
     "output_type": "stream",
     "text": [
      "      CO2 Emission Grams/Mile\n",
      "Make                         \n",
      "Ford                    112.0\n",
      "Ford                    129.0\n",
      "Ford                    129.0\n",
      "Ford                    129.0\n",
      "Ford                    129.0\n"
     ]
    }
   ],
   "source": [
    "#Toyota, Ford, Volkswagen, Nissan, Honda \n",
    "val2=df.loc[['Ford'],['CO2 Emission Grams/Mile']]\n",
    "cFord = val2.sort_values(by=['CO2 Emission Grams/Mile'],ascending=[True])\n",
    "print(cFord[0:5])"
   ]
  },
  {
   "cell_type": "code",
   "execution_count": 15,
   "id": "d49ef28e",
   "metadata": {},
   "outputs": [
    {
     "name": "stdout",
     "output_type": "stream",
     "text": [
      "            CO2 Emission Grams/Mile\n",
      "Make                               \n",
      "Volkswagen               200.000000\n",
      "Volkswagen               200.000000\n",
      "Volkswagen               200.000000\n",
      "Volkswagen               200.000000\n",
      "Volkswagen               261.025641\n"
     ]
    }
   ],
   "source": [
    "#Toyota, Ford, Volkswagen, Nissan, Honda \n",
    "val3=df.loc[['Volkswagen'],['CO2 Emission Grams/Mile']]\n",
    "cVolkswagen = val3.sort_values(by=['CO2 Emission Grams/Mile'],ascending=[True])\n",
    "print(cVolkswagen[0:5])"
   ]
  },
  {
   "cell_type": "code",
   "execution_count": 16,
   "id": "3cd8023e",
   "metadata": {},
   "outputs": [
    {
     "name": "stdout",
     "output_type": "stream",
     "text": [
      "        CO2 Emission Grams/Mile\n",
      "Make                           \n",
      "Nissan                    249.0\n",
      "Nissan                    254.0\n",
      "Nissan                    254.5\n",
      "Nissan                    254.5\n",
      "Nissan                    254.5\n"
     ]
    }
   ],
   "source": [
    "#Toyota, Ford, Volkswagen, Nissan, Honda \n",
    "val4=df.loc[['Nissan'],['CO2 Emission Grams/Mile']]\n",
    "cNissan  = val4.sort_values(by=['CO2 Emission Grams/Mile'],ascending=[True])\n",
    "print(cNissan[0:5])"
   ]
  },
  {
   "cell_type": "code",
   "execution_count": 17,
   "id": "6e26af8d",
   "metadata": {},
   "outputs": [
    {
     "name": "stdout",
     "output_type": "stream",
     "text": [
      "       CO2 Emission Grams/Mile\n",
      "Make                          \n",
      "Honda               130.000000\n",
      "Honda               167.679245\n",
      "Honda               167.679245\n",
      "Honda               167.679245\n",
      "Honda               167.679245\n"
     ]
    }
   ],
   "source": [
    "#Toyota, Ford, Volkswagen, Nissan, Honda \n",
    "val5=df.loc[['Honda'],['CO2 Emission Grams/Mile']]\n",
    "cHonda  = val5.sort_values(by=['CO2 Emission Grams/Mile'],ascending=[True])\n",
    "print(cHonda[0:5])"
   ]
  },
  {
   "cell_type": "markdown",
   "id": "8695e568",
   "metadata": {},
   "source": [
    "# Question 7:"
   ]
  },
  {
   "cell_type": "code",
   "execution_count": null,
   "id": "7d8bae19",
   "metadata": {},
   "outputs": [],
   "source": []
  }
 ],
 "metadata": {
  "kernelspec": {
   "display_name": "Python 3 (ipykernel)",
   "language": "python",
   "name": "python3"
  },
  "language_info": {
   "codemirror_mode": {
    "name": "ipython",
    "version": 3
   },
   "file_extension": ".py",
   "mimetype": "text/x-python",
   "name": "python",
   "nbconvert_exporter": "python",
   "pygments_lexer": "ipython3",
   "version": "3.9.13"
  }
 },
 "nbformat": 4,
 "nbformat_minor": 5
}
